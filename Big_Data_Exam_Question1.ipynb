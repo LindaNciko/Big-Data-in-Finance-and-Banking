{
  "nbformat": 4,
  "nbformat_minor": 0,
  "metadata": {
    "colab": {
      "provenance": []
    },
    "kernelspec": {
      "name": "python3",
      "display_name": "Python 3"
    },
    "language_info": {
      "name": "python"
    }
  },
  "cells": [
    {
      "cell_type": "markdown",
      "source": [
        "# Big Data in Banking and Finance Exam 2025\n",
        "\n",
        "## Claudine Linda Wa Nciko\n",
        "## Student number: 169375\n",
        "\n",
        "\n",
        "\n"
      ],
      "metadata": {
        "id": "z9bFy1HMlvYj"
      }
    },
    {
      "cell_type": "markdown",
      "source": [
        "## QUESTION 1"
      ],
      "metadata": {
        "id": "4rnzIo5hBipk"
      }
    },
    {
      "cell_type": "markdown",
      "source": [
        "## Introduction\n",
        "In this notebook, we explore a dataset consisting of transaction and customer information in the banking and finance sector. Using PySpark, we perform several steps to gain insights into customer spending patterns. Specifically, we load two datasets transactions and customer details into PySpark DataFrames, convert appropriate columns to correct data types, and then join the datasets on the customer_id column. Afterward, we calculate the average transaction amount per customer and classify each customer as a low, moderate, or high spender based on their average spending. The final DataFrame containing the customer IDs, risk segments, average transaction amounts, and spend categories is saved in Parquet format for further analysis."
      ],
      "metadata": {
        "id": "GuTf47OgmCeg"
      }
    },
    {
      "cell_type": "code",
      "execution_count": 1,
      "metadata": {
        "colab": {
          "base_uri": "https://localhost:8080/"
        },
        "id": "VZGfX2NrlMrw",
        "outputId": "e17b1672-5219-4ed1-a5c3-2f1378422bdd"
      },
      "outputs": [
        {
          "output_type": "stream",
          "name": "stdout",
          "text": [
            "Requirement already satisfied: pyspark in /usr/local/lib/python3.11/dist-packages (3.5.5)\n",
            "Requirement already satisfied: py4j==0.10.9.7 in /usr/local/lib/python3.11/dist-packages (from pyspark) (0.10.9.7)\n"
          ]
        }
      ],
      "source": [
        "# Install PySpark\n",
        "!pip install pyspark\n",
        "\n",
        "# Import required libraries\n",
        "from pyspark.sql import SparkSession\n",
        "from pyspark.sql.functions import col, explode, count, mean , desc, when , avg\n",
        "from pyspark.sql.types import DateType, DoubleType\n",
        "import requests\n",
        "import os"
      ]
    },
    {
      "cell_type": "markdown",
      "source": [
        "## Spark Session Initialization\n",
        "The first step in PySpark programming is to create a Spark session.  Our dispersed computations have a unified context thanks to this session."
      ],
      "metadata": {
        "id": "swoQYaQym3ov"
      }
    },
    {
      "cell_type": "code",
      "source": [
        "# Initialize session\n",
        "spark = SparkSession.builder.appName(\"Customer Transaction\").getOrCreate()"
      ],
      "metadata": {
        "id": "bKhGtWYnmu-c"
      },
      "execution_count": 2,
      "outputs": []
    },
    {
      "cell_type": "markdown",
      "source": [
        "## Load the datasets"
      ],
      "metadata": {
        "id": "Tvt5ztzxokzR"
      }
    },
    {
      "cell_type": "code",
      "source": [
        "# Load the transactions and customers Datasets\n",
        "transactions_df = spark.read.csv(\"/content/transactions.csv\", header=True, inferSchema=True)\n",
        "customers_df = spark.read.csv(\"/content/customers.csv\", header=True, inferSchema=True)\n",
        "\n",
        "# Display a sample from transactions dataset\n",
        "print(\"Transactions Schema:\")\n",
        "transactions_df.printSchema()\n",
        "transactions_df.show(5)\n",
        "\n",
        "# Display a sample from customers dataset\n",
        "print(\"Customers Schema:\")\n",
        "customers_df.printSchema()\n",
        "customers_df.show(5)\n"
      ],
      "metadata": {
        "colab": {
          "base_uri": "https://localhost:8080/"
        },
        "id": "iOgj6P-_oprG",
        "outputId": "91be9691-2537-4790-8e7b-864c4ea3e4c3"
      },
      "execution_count": 3,
      "outputs": [
        {
          "output_type": "stream",
          "name": "stdout",
          "text": [
            "Transactions Schema:\n",
            "root\n",
            " |-- transaction_id: string (nullable = true)\n",
            " |-- customer_id: string (nullable = true)\n",
            " |-- transaction_date: date (nullable = true)\n",
            " |-- amount: double (nullable = true)\n",
            " |-- transaction_type: string (nullable = true)\n",
            "\n",
            "+--------------+-----------+----------------+-------+----------------+\n",
            "|transaction_id|customer_id|transaction_date| amount|transaction_type|\n",
            "+--------------+-----------+----------------+-------+----------------+\n",
            "|     TXN207175|   CUST0011|      2023-05-23| 785.84|          credit|\n",
            "|     TXN733052|   CUST0003|      2023-07-14| 492.61|          credit|\n",
            "|     TXN496922|   CUST0009|      2023-01-23|3651.36|           debit|\n",
            "|     TXN705397|   CUST0003|      2023-10-10|1472.96|          credit|\n",
            "|     TXN910620|   CUST0007|      2023-12-27| 357.08|           debit|\n",
            "+--------------+-----------+----------------+-------+----------------+\n",
            "only showing top 5 rows\n",
            "\n",
            "Customers Schema:\n",
            "root\n",
            " |-- customer_id: string (nullable = true)\n",
            " |-- account_open_date: date (nullable = true)\n",
            " |-- risk_segment: string (nullable = true)\n",
            "\n",
            "+-----------+-----------------+------------+\n",
            "|customer_id|account_open_date|risk_segment|\n",
            "+-----------+-----------------+------------+\n",
            "|   CUST0001|       2021-10-16|         low|\n",
            "|   CUST0002|       2020-04-24|         low|\n",
            "|   CUST0003|       2020-01-26|        high|\n",
            "|   CUST0004|       2022-01-29|        high|\n",
            "|   CUST0005|       2020-10-08|         low|\n",
            "+-----------+-----------------+------------+\n",
            "only showing top 5 rows\n",
            "\n"
          ]
        }
      ]
    },
    {
      "cell_type": "markdown",
      "source": [
        "## Exploratory Data Analysis (EDA)\n"
      ],
      "metadata": {
        "id": "Kzm12TFY0Xhx"
      }
    },
    {
      "cell_type": "markdown",
      "source": [
        "Summary statistics for each dataset"
      ],
      "metadata": {
        "id": "q-g0u83V52Mt"
      }
    },
    {
      "cell_type": "code",
      "source": [
        "# Summary statistics for transactions\n",
        "print(\"\\nSummary Statistics for transactions:\")\n",
        "transactions_df.describe().show()\n",
        "\n",
        "# Summary statistics for customers\n",
        "print(\"\\nSummary Statistics for cutsomers:\")\n",
        "customers_df.describe().show()"
      ],
      "metadata": {
        "colab": {
          "base_uri": "https://localhost:8080/"
        },
        "id": "rVrOV0U152ns",
        "outputId": "832761c5-f0d2-408f-bcb9-05fd915ead7e"
      },
      "execution_count": 4,
      "outputs": [
        {
          "output_type": "stream",
          "name": "stdout",
          "text": [
            "\n",
            "Summary Statistics for transactions:\n",
            "+-------+--------------+-----------+------------------+----------------+\n",
            "|summary|transaction_id|customer_id|            amount|transaction_type|\n",
            "+-------+--------------+-----------+------------------+----------------+\n",
            "|  count|           200|        200|               200|             200|\n",
            "|   mean|          NULL|       NULL|2392.4248999999995|            NULL|\n",
            "| stddev|          NULL|       NULL|1417.5792633356295|            NULL|\n",
            "|    min|     TXN113266|   CUST0001|             56.48|          credit|\n",
            "|    max|     TXN994905|   CUST0020|           4980.65|           debit|\n",
            "+-------+--------------+-----------+------------------+----------------+\n",
            "\n",
            "\n",
            "Summary Statistics for cutsomers:\n",
            "+-------+-----------+------------+\n",
            "|summary|customer_id|risk_segment|\n",
            "+-------+-----------+------------+\n",
            "|  count|         20|          20|\n",
            "|   mean|       NULL|        NULL|\n",
            "| stddev|       NULL|        NULL|\n",
            "|    min|   CUST0001|        high|\n",
            "|    max|   CUST0020|      medium|\n",
            "+-------+-----------+------------+\n",
            "\n"
          ]
        }
      ]
    },
    {
      "cell_type": "markdown",
      "source": [
        "The summary statistics show there are 200 transactions with an average amount of 2392.42, ranging from 56.48 to 4980.65.\n",
        "The customer dataset contains 20 unique customers, each assigned a risk segment (low, medium, or high)."
      ],
      "metadata": {
        "id": "yfte48g76CCq"
      }
    },
    {
      "cell_type": "markdown",
      "source": [
        "Covert data types\n",
        "Even though the data is already inferred correctly, we include this block for clarity the data types."
      ],
      "metadata": {
        "id": "2VcA5Vde2y-K"
      }
    },
    {
      "cell_type": "code",
      "source": [
        "# Convert 'transaction_date' to DateType and 'amount' to DoubleType explicitly in transactions_df\n",
        "transactions_df = transactions_df.withColumn(\"transaction_date\", col(\"transaction_date\").cast(DateType())) \\\n",
        "                                 .withColumn(\"amount\", col(\"amount\").cast(DoubleType()))\n",
        "\n",
        "# Convert 'account_open_date' to DateType in customers_df\n",
        "customers_df = customers_df.withColumn(\"account_open_date\", col(\"account_open_date\").cast(DateType()))\n",
        "\n",
        "# Verify the conversion\n",
        "transactions_df.printSchema()\n",
        "customers_df.printSchema()\n"
      ],
      "metadata": {
        "colab": {
          "base_uri": "https://localhost:8080/"
        },
        "id": "7XBsqKcI2uGZ",
        "outputId": "09ad40f3-39b9-4529-8ee1-3ae7519ea9ec"
      },
      "execution_count": 5,
      "outputs": [
        {
          "output_type": "stream",
          "name": "stdout",
          "text": [
            "root\n",
            " |-- transaction_id: string (nullable = true)\n",
            " |-- customer_id: string (nullable = true)\n",
            " |-- transaction_date: date (nullable = true)\n",
            " |-- amount: double (nullable = true)\n",
            " |-- transaction_type: string (nullable = true)\n",
            "\n",
            "root\n",
            " |-- customer_id: string (nullable = true)\n",
            " |-- account_open_date: date (nullable = true)\n",
            " |-- risk_segment: string (nullable = true)\n",
            "\n"
          ]
        }
      ]
    },
    {
      "cell_type": "markdown",
      "source": [
        "##  Join the Datasets\n",
        "\n",
        "Perform an inner join on the customer_id column to combine transaction details with customer information."
      ],
      "metadata": {
        "id": "2el7rfMCr6Hv"
      }
    },
    {
      "cell_type": "code",
      "source": [
        "# Join Datasets on customer_id in customer transaction (custrans)\n",
        "custrans = transactions_df.join(customers_df, on=\"customer_id\", how=\"inner\")\n",
        "\n",
        "# Display the joined DataFrame to verify the join\n",
        "custrans.show(10)\n"
      ],
      "metadata": {
        "colab": {
          "base_uri": "https://localhost:8080/"
        },
        "id": "gc0BFkH-r7Ha",
        "outputId": "43c0691b-ef26-43aa-8ce1-3243f76853ad"
      },
      "execution_count": 6,
      "outputs": [
        {
          "output_type": "stream",
          "name": "stdout",
          "text": [
            "+-----------+--------------+----------------+-------+----------------+-----------------+------------+\n",
            "|customer_id|transaction_id|transaction_date| amount|transaction_type|account_open_date|risk_segment|\n",
            "+-----------+--------------+----------------+-------+----------------+-----------------+------------+\n",
            "|   CUST0011|     TXN207175|      2023-05-23| 785.84|          credit|       2021-11-23|        high|\n",
            "|   CUST0003|     TXN733052|      2023-07-14| 492.61|          credit|       2020-01-26|        high|\n",
            "|   CUST0009|     TXN496922|      2023-01-23|3651.36|           debit|       2022-01-24|        high|\n",
            "|   CUST0003|     TXN705397|      2023-10-10|1472.96|          credit|       2020-01-26|        high|\n",
            "|   CUST0007|     TXN910620|      2023-12-27| 357.08|           debit|       2020-08-16|         low|\n",
            "|   CUST0010|     TXN498591|      2023-02-10|4278.04|           debit|       2020-04-14|        high|\n",
            "|   CUST0009|     TXN270555|      2023-08-21|3182.07|          credit|       2022-01-24|        high|\n",
            "|   CUST0012|     TXN835911|      2023-07-01|1055.44|          credit|       2022-01-28|      medium|\n",
            "|   CUST0003|     TXN271339|      2023-11-08|3178.54|           debit|       2020-01-26|        high|\n",
            "|   CUST0015|     TXN817870|      2023-07-14|1357.04|           debit|       2020-03-30|        high|\n",
            "+-----------+--------------+----------------+-------+----------------+-----------------+------------+\n",
            "only showing top 10 rows\n",
            "\n"
          ]
        }
      ]
    },
    {
      "cell_type": "markdown",
      "source": [
        "Summary statistics"
      ],
      "metadata": {
        "id": "TpVU3Nrb4idH"
      }
    },
    {
      "cell_type": "code",
      "source": [
        "# Summary statistics\n",
        "print(\"\\nSummary Statistics:\")\n",
        "custrans.describe().show()"
      ],
      "metadata": {
        "colab": {
          "base_uri": "https://localhost:8080/"
        },
        "id": "NMpo3oa85CYc",
        "outputId": "4136d0f5-1d7e-47e1-9f88-6b13a12802b6"
      },
      "execution_count": 7,
      "outputs": [
        {
          "output_type": "stream",
          "name": "stdout",
          "text": [
            "\n",
            "Summary Statistics:\n",
            "+-------+-----------+--------------+------------------+----------------+------------+\n",
            "|summary|customer_id|transaction_id|            amount|transaction_type|risk_segment|\n",
            "+-------+-----------+--------------+------------------+----------------+------------+\n",
            "|  count|        200|           200|               200|             200|         200|\n",
            "|   mean|       NULL|          NULL|2392.4248999999995|            NULL|        NULL|\n",
            "| stddev|       NULL|          NULL|1417.5792633356295|            NULL|        NULL|\n",
            "|    min|   CUST0001|     TXN113266|             56.48|          credit|        high|\n",
            "|    max|   CUST0020|     TXN994905|           4980.65|           debit|      medium|\n",
            "+-------+-----------+--------------+------------------+----------------+------------+\n",
            "\n"
          ]
        }
      ]
    },
    {
      "cell_type": "markdown",
      "source": [
        "Check missing values"
      ],
      "metadata": {
        "id": "4kUNNlSa4oQY"
      }
    },
    {
      "cell_type": "code",
      "source": [
        "# count NULL values in each column\n",
        "custrans.select([(count(col(c)) - count(col(c))).alias(f\"missing_{c}\") for c in custrans.columns]).show()"
      ],
      "metadata": {
        "colab": {
          "base_uri": "https://localhost:8080/"
        },
        "id": "aagS5a1d0zJZ",
        "outputId": "c7117d57-799b-480c-c5d2-f7e1485f52ce"
      },
      "execution_count": 8,
      "outputs": [
        {
          "output_type": "stream",
          "name": "stdout",
          "text": [
            "+-------------------+----------------------+------------------------+--------------+------------------------+-------------------------+--------------------+\n",
            "|missing_customer_id|missing_transaction_id|missing_transaction_date|missing_amount|missing_transaction_type|missing_account_open_date|missing_risk_segment|\n",
            "+-------------------+----------------------+------------------------+--------------+------------------------+-------------------------+--------------------+\n",
            "|                  0|                     0|                       0|             0|                       0|                        0|                   0|\n",
            "+-------------------+----------------------+------------------------+--------------+------------------------+-------------------------+--------------------+\n",
            "\n"
          ]
        }
      ]
    },
    {
      "cell_type": "markdown",
      "source": [
        "## Calculate the Average Transaction Amount\n",
        "This block groups the joined DataFrame by customer_id and risk_segment and calculates the average amount from all transactions.\n",
        "\n",
        "It ensures that for each customer we have computed the average of both debit and credit transactions."
      ],
      "metadata": {
        "id": "Zm3BZ8FXsRS8"
      }
    },
    {
      "cell_type": "code",
      "source": [
        "# Calculate Average Transaction Amount per Customer\n",
        "avg_df = custrans.groupBy(\"customer_id\", \"risk_segment\") \\\n",
        "                  .agg(avg(\"amount\").alias(\"avg_transaction_amount\"))\n",
        "\n",
        "# Show a sample of the average calculation\n",
        "avg_df.show(10)\n"
      ],
      "metadata": {
        "colab": {
          "base_uri": "https://localhost:8080/"
        },
        "id": "Cee7mwostBIO",
        "outputId": "ad8e7c3a-ca12-403f-956b-c1f3b418acbc"
      },
      "execution_count": 8,
      "outputs": [
        {
          "output_type": "stream",
          "name": "stdout",
          "text": [
            "+-----------+------------+----------------------+\n",
            "|customer_id|risk_segment|avg_transaction_amount|\n",
            "+-----------+------------+----------------------+\n",
            "|   CUST0010|        high|    2172.6945454545457|\n",
            "|   CUST0001|         low|    2830.1476923076925|\n",
            "|   CUST0019|        high|    2835.3933333333334|\n",
            "|   CUST0003|        high|    2405.3107692307694|\n",
            "|   CUST0004|        high|              2057.352|\n",
            "|   CUST0013|         low|            2527.98375|\n",
            "|   CUST0015|        high|    2167.9361538461535|\n",
            "|   CUST0011|        high|    2445.7337500000003|\n",
            "|   CUST0006|        high|               2144.86|\n",
            "|   CUST0017|         low|              2344.725|\n",
            "+-----------+------------+----------------------+\n",
            "only showing top 10 rows\n",
            "\n"
          ]
        }
      ]
    },
    {
      "cell_type": "markdown",
      "source": [
        " All customers here are high spenders, with average amounts over 1000."
      ],
      "metadata": {
        "id": "DbTrUh869sUm"
      }
    },
    {
      "cell_type": "markdown",
      "source": [
        "## Classify Spend Category\n",
        "Based on the average transaction amount, classify each customer as follows:\n",
        "\n",
        "low spender: if the average is less than 100\n",
        "\n",
        "moderate spender: if the average is between 100 and 1000 (inclusive)\n",
        "\n",
        "high spender: if the average is greater than 1000"
      ],
      "metadata": {
        "id": "xpqwLhu2tgtM"
      }
    },
    {
      "cell_type": "code",
      "source": [
        "# Classify Spend Category Based on Average Transaction Amount\n",
        "classified_df = avg_df.withColumn(\"spend_category\",\n",
        "    when(col(\"avg_transaction_amount\") < 100, \"low spender\")\n",
        "    .when((col(\"avg_transaction_amount\") >= 100) & (col(\"avg_transaction_amount\") <= 1000), \"moderate spender\")\n",
        "    .otherwise(\"high spender\")\n",
        ")\n",
        "\n",
        "# Verify the new column with classification\n",
        "classified_df.show(10)\n"
      ],
      "metadata": {
        "colab": {
          "base_uri": "https://localhost:8080/"
        },
        "id": "AsiuzgI5t5hW",
        "outputId": "ef75cacd-6e28-454c-b8c0-1ec83d4fce64"
      },
      "execution_count": 9,
      "outputs": [
        {
          "output_type": "stream",
          "name": "stdout",
          "text": [
            "+-----------+------------+----------------------+--------------+\n",
            "|customer_id|risk_segment|avg_transaction_amount|spend_category|\n",
            "+-----------+------------+----------------------+--------------+\n",
            "|   CUST0010|        high|    2172.6945454545457|  high spender|\n",
            "|   CUST0001|         low|    2830.1476923076925|  high spender|\n",
            "|   CUST0019|        high|    2835.3933333333334|  high spender|\n",
            "|   CUST0003|        high|    2405.3107692307694|  high spender|\n",
            "|   CUST0004|        high|              2057.352|  high spender|\n",
            "|   CUST0013|         low|            2527.98375|  high spender|\n",
            "|   CUST0015|        high|    2167.9361538461535|  high spender|\n",
            "|   CUST0011|        high|    2445.7337500000003|  high spender|\n",
            "|   CUST0006|        high|               2144.86|  high spender|\n",
            "|   CUST0017|         low|              2344.725|  high spender|\n",
            "+-----------+------------+----------------------+--------------+\n",
            "only showing top 10 rows\n",
            "\n"
          ]
        }
      ]
    },
    {
      "cell_type": "markdown",
      "source": [
        "This table shows each customer's average transaction amount along with their risk segment.\n",
        "Most customers are classified as high spenders because their average transaction amounts exceed 1000."
      ],
      "metadata": {
        "id": "pmlhYR_zvPXH"
      }
    },
    {
      "cell_type": "markdown",
      "source": [
        "## Prepare the final DataFrame\n",
        "Select the columns: customer_id, risk_segment, avg_transaction_amount, and spend_category."
      ],
      "metadata": {
        "id": "I15O6UavuzlK"
      }
    },
    {
      "cell_type": "code",
      "source": [
        "# Prepare Final DataFrame with the specified columns for each customer\n",
        "custrans_df = classified_df.select(\"customer_id\", \"risk_segment\", \"avg_transaction_amount\", \"spend_category\")\n",
        "\n",
        "# Show the final result\n",
        "custrans_df.show(10)\n"
      ],
      "metadata": {
        "colab": {
          "base_uri": "https://localhost:8080/"
        },
        "id": "u5WQa7hGvMsj",
        "outputId": "30d5d61f-f3da-4244-cc07-0e7414cc8bdd"
      },
      "execution_count": 10,
      "outputs": [
        {
          "output_type": "stream",
          "name": "stdout",
          "text": [
            "+-----------+------------+----------------------+--------------+\n",
            "|customer_id|risk_segment|avg_transaction_amount|spend_category|\n",
            "+-----------+------------+----------------------+--------------+\n",
            "|   CUST0010|        high|    2172.6945454545457|  high spender|\n",
            "|   CUST0001|         low|    2830.1476923076925|  high spender|\n",
            "|   CUST0019|        high|    2835.3933333333334|  high spender|\n",
            "|   CUST0003|        high|    2405.3107692307694|  high spender|\n",
            "|   CUST0004|        high|              2057.352|  high spender|\n",
            "|   CUST0013|         low|            2527.98375|  high spender|\n",
            "|   CUST0015|        high|    2167.9361538461535|  high spender|\n",
            "|   CUST0011|        high|    2445.7337500000003|  high spender|\n",
            "|   CUST0006|        high|               2144.86|  high spender|\n",
            "|   CUST0017|         low|              2344.725|  high spender|\n",
            "+-----------+------------+----------------------+--------------+\n",
            "only showing top 10 rows\n",
            "\n"
          ]
        }
      ]
    },
    {
      "cell_type": "markdown",
      "source": [
        "##  Save as Parquet\n",
        "\n",
        "This block saves the final customer summary DataFrame in Parquet format, which is a columnar storage format optimized for performance and used in big data processing."
      ],
      "metadata": {
        "id": "M7P-cnjwv5oN"
      }
    },
    {
      "cell_type": "code",
      "source": [
        "# Save the final DataFrame in Parquet format\n",
        "custrans_df.write.mode(\"overwrite\").parquet(\"output/final_transactions.parquet\")"
      ],
      "metadata": {
        "id": "GHvoQ5lAwA-o"
      },
      "execution_count": 11,
      "outputs": []
    },
    {
      "cell_type": "markdown",
      "source": [
        "## Conclusion\n",
        "In this analysis, we successfully processed the transaction and customer data using PySpark to gain insights into customer spending behavior. By calculating the average transaction amount for each customer, we classified them into different spend categories: low, moderate, and high spenders. The results revealed that most customers fall into the high spender category, as their average transaction amounts exceeded 1000. This classification helps to better understand customer behavior, enabling businesses to tailor their offerings or strategies accordingly. The final dataset, containing customer IDs, risk segments, average transaction amounts, and spend categories, was saved in Parquet format for efficient storage and further analysis."
      ],
      "metadata": {
        "id": "VnIozKKc_y45"
      }
    }
  ]
}